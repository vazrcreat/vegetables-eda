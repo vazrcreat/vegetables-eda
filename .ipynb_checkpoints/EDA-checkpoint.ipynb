{
 "cells": [
  {
   "cell_type": "code",
   "execution_count": 6,
   "id": "22bb333c-15fa-4423-949f-bf81fb5f700e",
   "metadata": {},
   "outputs": [],
   "source": [
    "import pandas as pd\n",
    "import numpy as np\n",
    "import datetime as dt"
   ]
  },
  {
   "cell_type": "code",
   "execution_count": 2,
   "id": "fff59414-a73e-4e27-80ac-1684d5f21015",
   "metadata": {},
   "outputs": [],
   "source": [
    "vdf = pd.read_csv('fruitvegprices-2017_2022.csv')"
   ]
  },
  {
   "cell_type": "code",
   "execution_count": 3,
   "id": "6c6b0dae-14f0-4c7c-955e-4c7e08e287c7",
   "metadata": {},
   "outputs": [
    {
     "data": {
      "text/html": [
       "<div>\n",
       "<style scoped>\n",
       "    .dataframe tbody tr th:only-of-type {\n",
       "        vertical-align: middle;\n",
       "    }\n",
       "\n",
       "    .dataframe tbody tr th {\n",
       "        vertical-align: top;\n",
       "    }\n",
       "\n",
       "    .dataframe thead th {\n",
       "        text-align: right;\n",
       "    }\n",
       "</style>\n",
       "<table border=\"1\" class=\"dataframe\">\n",
       "  <thead>\n",
       "    <tr style=\"text-align: right;\">\n",
       "      <th></th>\n",
       "      <th>category</th>\n",
       "      <th>item</th>\n",
       "      <th>variety</th>\n",
       "      <th>date</th>\n",
       "      <th>price</th>\n",
       "      <th>unit</th>\n",
       "    </tr>\n",
       "  </thead>\n",
       "  <tbody>\n",
       "    <tr>\n",
       "      <th>0</th>\n",
       "      <td>fruit</td>\n",
       "      <td>apples</td>\n",
       "      <td>bramleys_seedling</td>\n",
       "      <td>2022-03-11</td>\n",
       "      <td>2.05</td>\n",
       "      <td>kg</td>\n",
       "    </tr>\n",
       "    <tr>\n",
       "      <th>1</th>\n",
       "      <td>fruit</td>\n",
       "      <td>apples</td>\n",
       "      <td>coxs_orange_group</td>\n",
       "      <td>2022-03-11</td>\n",
       "      <td>1.22</td>\n",
       "      <td>kg</td>\n",
       "    </tr>\n",
       "    <tr>\n",
       "      <th>2</th>\n",
       "      <td>fruit</td>\n",
       "      <td>apples</td>\n",
       "      <td>egremont_russet</td>\n",
       "      <td>2022-03-11</td>\n",
       "      <td>1.14</td>\n",
       "      <td>kg</td>\n",
       "    </tr>\n",
       "    <tr>\n",
       "      <th>3</th>\n",
       "      <td>fruit</td>\n",
       "      <td>apples</td>\n",
       "      <td>braeburn</td>\n",
       "      <td>2022-03-11</td>\n",
       "      <td>1.05</td>\n",
       "      <td>kg</td>\n",
       "    </tr>\n",
       "    <tr>\n",
       "      <th>4</th>\n",
       "      <td>fruit</td>\n",
       "      <td>apples</td>\n",
       "      <td>gala</td>\n",
       "      <td>2022-03-11</td>\n",
       "      <td>1.03</td>\n",
       "      <td>kg</td>\n",
       "    </tr>\n",
       "    <tr>\n",
       "      <th>...</th>\n",
       "      <td>...</td>\n",
       "      <td>...</td>\n",
       "      <td>...</td>\n",
       "      <td>...</td>\n",
       "      <td>...</td>\n",
       "      <td>...</td>\n",
       "    </tr>\n",
       "    <tr>\n",
       "      <th>9642</th>\n",
       "      <td>cut_flowers</td>\n",
       "      <td>alstromeria</td>\n",
       "      <td>indoor</td>\n",
       "      <td>2017-11-03</td>\n",
       "      <td>0.27</td>\n",
       "      <td>stem</td>\n",
       "    </tr>\n",
       "    <tr>\n",
       "      <th>9643</th>\n",
       "      <td>cut_flowers</td>\n",
       "      <td>chrysanthemum</td>\n",
       "      <td>indoor_spray</td>\n",
       "      <td>2017-11-03</td>\n",
       "      <td>0.22</td>\n",
       "      <td>stem</td>\n",
       "    </tr>\n",
       "    <tr>\n",
       "      <th>9644</th>\n",
       "      <td>cut_flowers</td>\n",
       "      <td>lillies</td>\n",
       "      <td>oriental</td>\n",
       "      <td>2017-11-03</td>\n",
       "      <td>0.70</td>\n",
       "      <td>stem</td>\n",
       "    </tr>\n",
       "    <tr>\n",
       "      <th>9645</th>\n",
       "      <td>cut_flowers</td>\n",
       "      <td>narcissus</td>\n",
       "      <td>indoor</td>\n",
       "      <td>2017-11-03</td>\n",
       "      <td>0.06</td>\n",
       "      <td>stem</td>\n",
       "    </tr>\n",
       "    <tr>\n",
       "      <th>9646</th>\n",
       "      <td>pot_plants</td>\n",
       "      <td>cyclamen</td>\n",
       "      <td>13_cm</td>\n",
       "      <td>2017-11-03</td>\n",
       "      <td>0.75</td>\n",
       "      <td>unit</td>\n",
       "    </tr>\n",
       "  </tbody>\n",
       "</table>\n",
       "<p>9647 rows × 6 columns</p>\n",
       "</div>"
      ],
      "text/plain": [
       "         category           item            variety        date  price  unit\n",
       "0           fruit         apples  bramleys_seedling  2022-03-11   2.05    kg\n",
       "1           fruit         apples  coxs_orange_group  2022-03-11   1.22    kg\n",
       "2           fruit         apples    egremont_russet  2022-03-11   1.14    kg\n",
       "3           fruit         apples           braeburn  2022-03-11   1.05    kg\n",
       "4           fruit         apples               gala  2022-03-11   1.03    kg\n",
       "...           ...            ...                ...         ...    ...   ...\n",
       "9642  cut_flowers    alstromeria             indoor  2017-11-03   0.27  stem\n",
       "9643  cut_flowers  chrysanthemum       indoor_spray  2017-11-03   0.22  stem\n",
       "9644  cut_flowers        lillies           oriental  2017-11-03   0.70  stem\n",
       "9645  cut_flowers      narcissus             indoor  2017-11-03   0.06  stem\n",
       "9646   pot_plants       cyclamen              13_cm  2017-11-03   0.75  unit\n",
       "\n",
       "[9647 rows x 6 columns]"
      ]
     },
     "execution_count": 3,
     "metadata": {},
     "output_type": "execute_result"
    }
   ],
   "source": [
    "vdf"
   ]
  },
  {
   "cell_type": "markdown",
   "id": "dc42ff16-f208-4782-b9b8-944a59d16961",
   "metadata": {},
   "source": [
    "## Ejercicios"
   ]
  },
  {
   "cell_type": "markdown",
   "id": "5f974629-c2d2-46ad-86e2-8ed3366fc74b",
   "metadata": {},
   "source": [
    "### Ejercicio uno: realice un analisis de valores nulos\n",
    "\n",
    "En caso de existir valores nulos elimine esos registros"
   ]
  },
  {
   "cell_type": "code",
   "execution_count": null,
   "id": "9b4e5f2f-3477-4cec-afab-51e40ef0b2eb",
   "metadata": {},
   "outputs": [],
   "source": [
    "result = pd.DataFrame()\n",
    "\n",
    "for date_ in vdf.loc[ : , 'date' ].drop_duplicates():\n",
    "    v_date = vdf.loc[ vdf['date'] == date_ , : ]    \n",
    "    for column_ in v_date.columns:        \n",
    "        percentage =  np.sum(pd.isna( v_date.loc[ : , column_ ]  )) / v_date.shape[0]\n",
    "        dfrow = pd.DataFrame({\n",
    "            'date': [ date_ ]\n",
    "            , 'column' : [ column_ ]\n",
    "            , 'percentage-of-nans' : [ percentage ]\n",
    "        })\n",
    "        result = pd.concat([result, dfrow])\n",
    "result "
   ]
  },
  {
   "cell_type": "markdown",
   "id": "29ce0f74-b6a8-40cb-90d9-a2032bb2eacc",
   "metadata": {},
   "source": [
    "### Ejercicio dos: Por categoria, cuantos distintos items hay y cuantos distintos variety hay?\n",
    "\n",
    "El resultado debe de tener el siguiente formato de presentacion:"
   ]
  },
  {
   "cell_type": "code",
   "execution_count": 26,
   "id": "80dfe19b-71f2-4107-b639-07d91ab50a91",
   "metadata": {},
   "outputs": [
    {
     "data": {
      "text/html": [
       "<div>\n",
       "<style scoped>\n",
       "    .dataframe tbody tr th:only-of-type {\n",
       "        vertical-align: middle;\n",
       "    }\n",
       "\n",
       "    .dataframe tbody tr th {\n",
       "        vertical-align: top;\n",
       "    }\n",
       "\n",
       "    .dataframe thead th {\n",
       "        text-align: right;\n",
       "    }\n",
       "</style>\n",
       "<table border=\"1\" class=\"dataframe\">\n",
       "  <thead>\n",
       "    <tr style=\"text-align: right;\">\n",
       "      <th></th>\n",
       "      <th>category</th>\n",
       "      <th>item_count</th>\n",
       "      <th>variety_Count</th>\n",
       "    </tr>\n",
       "  </thead>\n",
       "  <tbody>\n",
       "    <tr>\n",
       "      <th>0</th>\n",
       "      <td>cut_flowers</td>\n",
       "      <td>9</td>\n",
       "      <td>10</td>\n",
       "    </tr>\n",
       "    <tr>\n",
       "      <th>1</th>\n",
       "      <td>fruit</td>\n",
       "      <td>10</td>\n",
       "      <td>21</td>\n",
       "    </tr>\n",
       "  </tbody>\n",
       "</table>\n",
       "</div>"
      ],
      "text/plain": [
       "      category  item_count  variety_Count\n",
       "0  cut_flowers           9             10\n",
       "1        fruit          10             21"
      ]
     },
     "execution_count": 26,
     "metadata": {},
     "output_type": "execute_result"
    }
   ],
   "source": [
    "pd.DataFrame({\n",
    "    \"category\" : ['cut_flowers','fruit']\n",
    "    , \"item_count\" : [9,10]\n",
    "    , \"variety_Count\" : [10,21]\n",
    "})"
   ]
  },
  {
   "cell_type": "markdown",
   "id": "59e6f7f6-5a1d-4e24-bbbf-49c71a71e329",
   "metadata": {},
   "source": [
    "Como nota en un mismo dataframe mostramos todo lo solicitado, usted debe de mostrar todas las categorias"
   ]
  },
  {
   "cell_type": "code",
   "execution_count": null,
   "id": "1edda033-ecff-47da-a53a-113b619f15a8",
   "metadata": {},
   "outputs": [],
   "source": [
    "ejercicio2 = vdf.groupby(['category'],as_index=False).agg({'item':['count'],'variety':['count']})\n",
    "ejercicio2 = ejercicio2.drop_duplicates()\n",
    "ejercicio2.columns = ejercicio2.columns.droplevel(0)\n",
    "ejercicio2.columns = ['category','item-count','variety-count']\n",
    "ejercicio2"
   ]
  },
  {
   "cell_type": "markdown",
   "id": "74d700c1-351e-4e03-b319-4aabd9346cf3",
   "metadata": {},
   "source": [
    "### Ejercicio tres: Para la combinacion item, variety muestre el ultimo valor registrado por año.\n",
    "\n",
    "Ejemplo de como debe de mostrar su respuesta"
   ]
  },
  {
   "cell_type": "code",
   "execution_count": 27,
   "id": "4c36623d-c6e1-4d4d-b97c-ad03b5d2df3e",
   "metadata": {},
   "outputs": [
    {
     "data": {
      "text/html": [
       "<div>\n",
       "<style scoped>\n",
       "    .dataframe tbody tr th:only-of-type {\n",
       "        vertical-align: middle;\n",
       "    }\n",
       "\n",
       "    .dataframe tbody tr th {\n",
       "        vertical-align: top;\n",
       "    }\n",
       "\n",
       "    .dataframe thead th {\n",
       "        text-align: right;\n",
       "    }\n",
       "</style>\n",
       "<table border=\"1\" class=\"dataframe\">\n",
       "  <thead>\n",
       "    <tr style=\"text-align: right;\">\n",
       "      <th></th>\n",
       "      <th>item</th>\n",
       "      <th>variety</th>\n",
       "      <th>year</th>\n",
       "      <th>last_price</th>\n",
       "    </tr>\n",
       "  </thead>\n",
       "  <tbody>\n",
       "    <tr>\n",
       "      <th>0</th>\n",
       "      <td>Manzana</td>\n",
       "      <td>Gala</td>\n",
       "      <td>2022</td>\n",
       "      <td>3.2</td>\n",
       "    </tr>\n",
       "  </tbody>\n",
       "</table>\n",
       "</div>"
      ],
      "text/plain": [
       "      item variety  year  last_price\n",
       "0  Manzana    Gala  2022         3.2"
      ]
     },
     "execution_count": 27,
     "metadata": {},
     "output_type": "execute_result"
    }
   ],
   "source": [
    "pd.DataFrame({\n",
    "    \"item\" : ['Manzana']\n",
    "    , \"variety\" : ['Gala']\n",
    "    , \"year\" : [2022]\n",
    "    , \"last_price\" :  [3.2]\n",
    "})"
   ]
  },
  {
   "cell_type": "code",
   "execution_count": null,
   "id": "5936e504-6cc9-469a-ada7-7e74659bbdb0",
   "metadata": {},
   "outputs": [],
   "source": [
    "vdf[\"date\"] = pd.to_datetime(vdf[\"date\"])\n",
    "\n",
    "ejercicio3 = vdf.loc[ :, ['item','variety','date','price']]\n",
    "ejercicio3['date'] = ejercicio3['date'].dt.year\n",
    "ejercicio3 = ejercicio3.drop_duplicates()\n",
    "ejercicio3.columns = ['item', 'variety', 'year', 'price']\n",
    "ejercicio3\n"
   ]
  },
  {
   "cell_type": "markdown",
   "id": "d6539b13-ca3b-4270-a707-5353ea763167",
   "metadata": {},
   "source": [
    "### Ejercicio cuatro: Segun el ejercicio tres, que tanto aumento o disminuyo el precio de cada item-variety \n",
    "\n",
    "Ejemplo de como se debe de mostrar su respuesta"
   ]
  },
  {
   "cell_type": "code",
   "execution_count": 28,
   "id": "88f4e8d0-09ba-4e99-9424-4a435c6d72fc",
   "metadata": {},
   "outputs": [
    {
     "data": {
      "text/html": [
       "<div>\n",
       "<style scoped>\n",
       "    .dataframe tbody tr th:only-of-type {\n",
       "        vertical-align: middle;\n",
       "    }\n",
       "\n",
       "    .dataframe tbody tr th {\n",
       "        vertical-align: top;\n",
       "    }\n",
       "\n",
       "    .dataframe thead th {\n",
       "        text-align: right;\n",
       "    }\n",
       "</style>\n",
       "<table border=\"1\" class=\"dataframe\">\n",
       "  <thead>\n",
       "    <tr style=\"text-align: right;\">\n",
       "      <th></th>\n",
       "      <th>item</th>\n",
       "      <th>variety</th>\n",
       "      <th>year</th>\n",
       "      <th>last_price</th>\n",
       "      <th>delta</th>\n",
       "    </tr>\n",
       "  </thead>\n",
       "  <tbody>\n",
       "    <tr>\n",
       "      <th>0</th>\n",
       "      <td>Manzana</td>\n",
       "      <td>Gala</td>\n",
       "      <td>2020</td>\n",
       "      <td>2.7</td>\n",
       "      <td>0.0</td>\n",
       "    </tr>\n",
       "    <tr>\n",
       "      <th>1</th>\n",
       "      <td>Manzana</td>\n",
       "      <td>Gala</td>\n",
       "      <td>2021</td>\n",
       "      <td>2.5</td>\n",
       "      <td>-0.2</td>\n",
       "    </tr>\n",
       "    <tr>\n",
       "      <th>2</th>\n",
       "      <td>Manzana</td>\n",
       "      <td>Gala</td>\n",
       "      <td>2022</td>\n",
       "      <td>3.2</td>\n",
       "      <td>0.7</td>\n",
       "    </tr>\n",
       "  </tbody>\n",
       "</table>\n",
       "</div>"
      ],
      "text/plain": [
       "      item variety  year  last_price  delta\n",
       "0  Manzana    Gala  2020         2.7    0.0\n",
       "1  Manzana    Gala  2021         2.5   -0.2\n",
       "2  Manzana    Gala  2022         3.2    0.7"
      ]
     },
     "execution_count": 28,
     "metadata": {},
     "output_type": "execute_result"
    }
   ],
   "source": [
    "pd.DataFrame({\n",
    "    \"item\" : ['Manzana','Manzana','Manzana']\n",
    "    , \"variety\" : ['Gala','Gala','Gala']\n",
    "    , \"year\" : [2020,2021,2022]\n",
    "    , \"last_price\" :  [2.7,2.5,3.2]\n",
    "    , \"delta\" : [0, (2.5-2.7), (3.2-2.5)]\n",
    "})"
   ]
  },
  {
   "cell_type": "markdown",
   "id": "1ae39539-fc9a-467c-a0cd-6ed45263a143",
   "metadata": {},
   "source": [
    "Segun nuestro ejemplo dummy para 2021 estuvo 0.2 centavos mas barato y en 2022 estuvo 0.7 centavos caro"
   ]
  },
  {
   "cell_type": "code",
   "execution_count": null,
   "id": "ad63ccc0-c2f6-44ed-8d41-4788b4cf69a1",
   "metadata": {},
   "outputs": [],
   "source": [
    "ejercicio4 = vdf.loc[ :, ['item','variety','date','price']]\n",
    "ejercicio4['date'] = ejercicio4['date'].dt.year\n",
    "ejercicio4 = ejercicio4.drop_duplicates()\n",
    "ejercicio4 = ejercicio4.groupby(['item','variety','date','price'],as_index=False).agg({'price':['max','min']})\n",
    "ejercicio4.columns.droplevel(1)\n",
    "ejercicio4.columns = ['item', 'variety', 'year', 'price-max', 'price-min']\n",
    "ejercicio4\n"
   ]
  },
  {
   "cell_type": "markdown",
   "id": "e7bee68e-b5fd-4fda-874c-619a3b44335d",
   "metadata": {},
   "source": [
    "### Ejercicio cinco: Cual es precio promedio por item, variety\n",
    "\n",
    "Ejemplo de como se debe de mostrar su respuesta"
   ]
  },
  {
   "cell_type": "code",
   "execution_count": 29,
   "id": "7041ea50-4254-42d2-bf10-3c9ccda9a81f",
   "metadata": {},
   "outputs": [
    {
     "data": {
      "text/html": [
       "<div>\n",
       "<style scoped>\n",
       "    .dataframe tbody tr th:only-of-type {\n",
       "        vertical-align: middle;\n",
       "    }\n",
       "\n",
       "    .dataframe tbody tr th {\n",
       "        vertical-align: top;\n",
       "    }\n",
       "\n",
       "    .dataframe thead th {\n",
       "        text-align: right;\n",
       "    }\n",
       "</style>\n",
       "<table border=\"1\" class=\"dataframe\">\n",
       "  <thead>\n",
       "    <tr style=\"text-align: right;\">\n",
       "      <th></th>\n",
       "      <th>item</th>\n",
       "      <th>variety</th>\n",
       "      <th>year-month</th>\n",
       "      <th>avg-price</th>\n",
       "    </tr>\n",
       "  </thead>\n",
       "  <tbody>\n",
       "    <tr>\n",
       "      <th>0</th>\n",
       "      <td>Manzana</td>\n",
       "      <td>Gala</td>\n",
       "      <td>2021-01</td>\n",
       "      <td>0.5</td>\n",
       "    </tr>\n",
       "  </tbody>\n",
       "</table>\n",
       "</div>"
      ],
      "text/plain": [
       "      item variety year-month  avg-price\n",
       "0  Manzana    Gala    2021-01        0.5"
      ]
     },
     "execution_count": 29,
     "metadata": {},
     "output_type": "execute_result"
    }
   ],
   "source": [
    "pd.DataFrame({\n",
    "    \"item\" : ['Manzana']\n",
    "    , \"variety\" : ['Gala']\n",
    "    , \"year-month\" : ['2021-01']   \n",
    "    , \"avg-price\" : [0.5]\n",
    "})"
   ]
  },
  {
   "cell_type": "code",
   "execution_count": null,
   "id": "df21033d-e2d5-447d-be95-d4f605c22f5d",
   "metadata": {},
   "outputs": [],
   "source": [
    "ejercicio5 = vdf.groupby(['item','variety'],as_index=False).agg({'price' : ['mean']}).drop_duplicates()\n",
    "ejercicio5['year_month'] = vdf['date'].dt.strftime('%Y-%m')\n",
    "ejercicio5.columns.droplevel(1) \n",
    "ejercicio5.columns = ['item', 'variety', 'avg-price', 'year-month']\n",
    "ejercicio5"
   ]
  },
  {
   "cell_type": "markdown",
   "id": "00f6fd8d-62c2-4838-910e-c4f9a7cf93f3",
   "metadata": {},
   "source": [
    "### Ejercicio seis: muestre por category,item,variety que tanto % ha aumentado su precio\n",
    "\n",
    "Ejemplo: si para las manzanas gala el primer precio que se registro fue 2.00 y el ultimo precio que se registro es 4.00 este aumento un 100%"
   ]
  },
  {
   "cell_type": "code",
   "execution_count": 36,
   "id": "b6d2eff5-6029-4136-866d-2fa7afb24c4b",
   "metadata": {},
   "outputs": [
    {
     "data": {
      "text/html": [
       "<div>\n",
       "<style scoped>\n",
       "    .dataframe tbody tr th:only-of-type {\n",
       "        vertical-align: middle;\n",
       "    }\n",
       "\n",
       "    .dataframe tbody tr th {\n",
       "        vertical-align: top;\n",
       "    }\n",
       "\n",
       "    .dataframe thead th {\n",
       "        text-align: right;\n",
       "    }\n",
       "</style>\n",
       "<table border=\"1\" class=\"dataframe\">\n",
       "  <thead>\n",
       "    <tr style=\"text-align: right;\">\n",
       "      <th></th>\n",
       "      <th>category</th>\n",
       "      <th>item</th>\n",
       "      <th>variety</th>\n",
       "      <th>percentage-change-between-first-and-last-price</th>\n",
       "    </tr>\n",
       "  </thead>\n",
       "  <tbody>\n",
       "    <tr>\n",
       "      <th>0</th>\n",
       "      <td>fruta</td>\n",
       "      <td>Manzana</td>\n",
       "      <td>Gala</td>\n",
       "      <td>200</td>\n",
       "    </tr>\n",
       "    <tr>\n",
       "      <th>1</th>\n",
       "      <td>fruta</td>\n",
       "      <td>Manzana</td>\n",
       "      <td>egremont_russet</td>\n",
       "      <td>150</td>\n",
       "    </tr>\n",
       "  </tbody>\n",
       "</table>\n",
       "</div>"
      ],
      "text/plain": [
       "  category     item          variety  \\\n",
       "0    fruta  Manzana             Gala   \n",
       "1    fruta  Manzana  egremont_russet   \n",
       "\n",
       "   percentage-change-between-first-and-last-price  \n",
       "0                                             200  \n",
       "1                                             150  "
      ]
     },
     "execution_count": 36,
     "metadata": {},
     "output_type": "execute_result"
    }
   ],
   "source": [
    "pd.DataFrame({\n",
    "    \"category\": [\"fruta\",\"fruta\"]\n",
    "    ,\"item\" : ['Manzana','Manzana']\n",
    "    , \"variety\" : ['Gala','egremont_russet']\n",
    "    , \"percentage-change-between-first-and-last-price\" : [200,150]       \n",
    "})"
   ]
  },
  {
   "cell_type": "code",
   "execution_count": null,
   "id": "10d3316e-454e-44d1-a200-6507fd02843d",
   "metadata": {},
   "outputs": [],
   "source": [
    "ejercicio6 = vdf.loc[ :, ['category', 'item', 'variety', 'price']].sort_values(['category', 'item', 'variety', 'price'],ascending=False)\n",
    "ejercicio6['price'] = ejercicio6.groupby(['item'],as_index=False)['price'].shift(1)\n",
    "ejercicio6 = ejercicio6.loc[~pd.isna(ejercicio6['price']), :]\n",
    "ejercicio6['price'] = (ejercicio6['price'] - vdf['price'])*100\n",
    "ejercicio6.columns = ['category', 'item', 'variety', 'percentage-change-between-first-and-last-price']\n",
    "ejercicio6"
   ]
  },
  {
   "cell_type": "markdown",
   "id": "0b507b1e-35d8-4a2f-bfb2-2fa034d453a4",
   "metadata": {},
   "source": [
    "### Ejercicio siete: Segun el ejercicio seis por category cual es el item,variety con mayor aumento de crecimiento \n",
    "\n",
    "Segun el ejemplo dummy que se utilizo en el ejercicio seis para la category fruta se mostraria la manzana gala unicamente"
   ]
  },
  {
   "cell_type": "code",
   "execution_count": null,
   "id": "993b4429-8505-4e88-8fdd-3470574a41e0",
   "metadata": {},
   "outputs": [],
   "source": [
    "ejercicio7  = ejercicio6.groupby(['category'],as_index=False).agg({'item' : [\"max\",] , 'variety' : [\"max\",]})\n",
    "ejercicio7.columns.droplevel(1)\n",
    "ejercicio7.columns = ['category', 'item-max', 'variety-max']\n",
    "ejercicio7"
   ]
  }
 ],
 "metadata": {
  "kernelspec": {
   "display_name": "Python 3 (ipykernel)",
   "language": "python",
   "name": "python3"
  },
  "language_info": {
   "codemirror_mode": {
    "name": "ipython",
    "version": 3
   },
   "file_extension": ".py",
   "mimetype": "text/x-python",
   "name": "python",
   "nbconvert_exporter": "python",
   "pygments_lexer": "ipython3",
   "version": "3.9.7"
  }
 },
 "nbformat": 4,
 "nbformat_minor": 5
}
